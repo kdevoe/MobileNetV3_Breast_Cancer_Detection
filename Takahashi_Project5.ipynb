{
 "cells": [
  {
   "attachments": {},
   "cell_type": "markdown",
   "metadata": {},
   "source": [
    "## Library Imports"
   ]
  },
  {
   "cell_type": "code",
   "execution_count": 2,
   "metadata": {},
   "outputs": [],
   "source": [
    "import numpy as np\n",
    "import tensorflow as tf\n",
    "import pandas as pd\n",
    "from tensorflow import keras\n",
    "from tensorflow.keras.layers import Dense, Activation\n",
    "from tensorflow.keras.optimizers import Adam\n",
    "from tensorflow.keras.metrics import categorical_crossentropy\n",
    "from tensorflow.keras.preprocessing.image import ImageDataGenerator\n",
    "from tensorflow.keras.preprocessing import image\n",
    "from tensorflow.keras.preprocessing import image_dataset_from_directory\n",
    "from tensorflow.keras.models import Model\n",
    "from tensorflow.keras.applications import imagenet_utils\n",
    "from sklearn.metrics import confusion_matrix\n",
    "\n",
    "import itertools\n",
    "import os\n",
    "import shutil\n",
    "import random\n",
    "from time import time\n",
    "import matplotlib.pyplot as plt\n",
    "#import pillow as pil\n",
    "%matplotlib inline"
   ]
  },
  {
   "cell_type": "code",
   "execution_count": 54,
   "metadata": {},
   "outputs": [],
   "source": [
    "DATA_PATH = 'SampleData'\n",
    "#NUM_LAYERS_TO_REMOVE = 5\n",
    "#NUM_LAYERS_TO_TRAIN = 20\n",
    "LAYERS_TO_UNFREEZE = 0"
   ]
  },
  {
   "attachments": {},
   "cell_type": "markdown",
   "metadata": {},
   "source": [
    "## Create image pre-processing function"
   ]
  },
  {
   "cell_type": "code",
   "execution_count": 4,
   "metadata": {},
   "outputs": [],
   "source": [
    "# Function to preprocess the image with Keras\n",
    "preprocess_input = tf.keras.applications.mobilenet_v3.preprocess_input\n",
    "#def image_preprocessing(file):\n",
    "#    img = image.load_img(file, target_size=(224, 224))\n",
    "#    img_array = image.img_to_array(img)\n",
    "#    img_array_expanded_dims = np.expand_dims(img_array, axis=0)\n",
    "#    return tf.keras.applications.mobilenet_v3.preprocess_input(img_array_expanded_dims)"
   ]
  },
  {
   "cell_type": "markdown",
   "metadata": {},
   "source": [
    "## Load the metadata file.  Create a ground truth column."
   ]
  },
  {
   "cell_type": "code",
   "execution_count": 5,
   "metadata": {},
   "outputs": [],
   "source": [
    "# Load the metadata file\n",
    "#metadata = pd.read_excel('metadata_modified.xlsx')\n",
    "#image_path = metadata['Image Path']\n",
    "# Create the ground truth values and put it into a new 'g_truth' column\n",
    "#g_truth = metadata['Malignant'] + metadata['A']*2 + metadata['F']*4 + metadata['PT']*8 + metadata['TA']*16 + metadata['DC']*32 + metadata['LC']*64 + metadata['MC']*128 + metadata['PC']*256\n",
    "#metadata['g_truth'] = g_truth"
   ]
  },
  {
   "cell_type": "markdown",
   "metadata": {},
   "source": [
    "## Display a test image"
   ]
  },
  {
   "cell_type": "code",
   "execution_count": 6,
   "metadata": {},
   "outputs": [],
   "source": [
    "# Display test image\n",
    "#from IPython.display import Image\n",
    "#Image(filename=image_path[0], width=300,height=200)"
   ]
  },
  {
   "cell_type": "code",
   "execution_count": 7,
   "metadata": {},
   "outputs": [
    {
     "name": "stdout",
     "output_type": "stream",
     "text": [
      "WARNING:tensorflow:`input_shape` is undefined or non-square, or `rows` is not 224. Weights for input shape (224, 224) will be loaded as the default.\n"
     ]
    }
   ],
   "source": [
    "mobile_v3 = tf.keras.applications.MobileNetV3Large()\n",
    "#preprocessed_image = image_preprocessing(image_path[7117])\n",
    "#predictions = mobile_v3.predict(preprocessed_image)\n",
    "#print(\"Output shape: \", predictions.shape)\n",
    "#results = imagenet_utils.decode_predictions(predictions)\n",
    "#results"
   ]
  },
  {
   "attachments": {},
   "cell_type": "markdown",
   "metadata": {},
   "source": [
    "Remove the specifiied number of layers.\n",
    "Freeze the specified number of layers."
   ]
  },
  {
   "cell_type": "code",
   "execution_count": 8,
   "metadata": {},
   "outputs": [],
   "source": [
    "# Remove last layers\n",
    "#x = mobile_v3.layers[-NUM_LAYERS_TO_REMOVE].output\n",
    "#output = Dense(units=2, activation='softmax')(x)\n",
    "\n",
    "# Freeze layers\n",
    "#for layer in new_model.layers[:-NUM_LAYERS_TO_TRAIN]:\n",
    "#    layer.trainable = False                            "
   ]
  },
  {
   "attachments": {},
   "cell_type": "markdown",
   "metadata": {},
   "source": [
    "## Define the training and validation datasets"
   ]
  },
  {
   "cell_type": "code",
   "execution_count": 9,
   "metadata": {},
   "outputs": [
    {
     "name": "stdout",
     "output_type": "stream",
     "text": [
      "Found 7909 files belonging to 8 classes.\n",
      "Using 5932 files for training.\n",
      "Found 7909 files belonging to 8 classes.\n",
      "Using 1977 files for validation.\n"
     ]
    }
   ],
   "source": [
    "path_to_files = 'BreaKHis_v1/BreaKHis_v1/histology_slides/breast/'\n",
    "train_dataset = tf.keras.preprocessing.image_dataset_from_directory(\n",
    "  path_to_files,\n",
    "  validation_split=0.25,\n",
    "  subset=\"training\",\n",
    "  seed=42,\n",
    "  image_size=(224, 224),\n",
    "#  batch_size=32,\n",
    "  shuffle=True\n",
    ")\n",
    "  \n",
    "val_dataset = tf.keras.preprocessing.image_dataset_from_directory(\n",
    "  path_to_files,\n",
    "  validation_split=0.25,\n",
    "  subset=\"validation\",\n",
    "  seed=42,\n",
    "  image_size=(224, 224),\n",
    "#  batch_size=32,\n",
    "  shuffle=True\n",
    ")\n",
    "#val_batches = tf.data.experimental.cardinality(val_dataset)\n",
    "#val_dataset = val_dataset.take((2*val_batches) // 5)\n",
    "#test_dataset = val_dataset.skip((2*val_batches) // 5)\n"
   ]
  },
  {
   "cell_type": "markdown",
   "metadata": {},
   "source": [
    "## Use AUTOTUNE to decrease I/O roadblocks"
   ]
  },
  {
   "cell_type": "code",
   "execution_count": 10,
   "metadata": {},
   "outputs": [],
   "source": [
    "AUTOTUNE = tf.data.AUTOTUNE\n",
    "\n",
    "train_dataset = train_dataset.prefetch(buffer_size=AUTOTUNE)\n",
    "valid_dataset = val_dataset.prefetch(buffer_size=AUTOTUNE)\n",
    "#test_dataset = test_dataset.prefetch(buffer_size=AUTOTUNE)"
   ]
  },
  {
   "cell_type": "markdown",
   "metadata": {},
   "source": [
    "## Define the model"
   ]
  },
  {
   "cell_type": "code",
   "execution_count": 11,
   "metadata": {},
   "outputs": [],
   "source": [
    "IMG_SIZE=(224,224)\n",
    "IMG_SHAPE = IMG_SIZE + (3,)\n",
    "def new_model (image_shape=IMG_SIZE):\n",
    "    input_shape = image_shape + (3,)\n",
    "    base_model = tf.keras.applications.MobileNetV3Large(input_shape=IMG_SHAPE,\n",
    "                                                        include_top=False, # important\n",
    "                                                        weights='imagenet')\n",
    "    # freeze the base model\n",
    "    base_model.trainable = False\n",
    "    # create input layer\n",
    "    inputs = tf.keras.Input(shape=input_shape)\n",
    "    # pre-process inputs\n",
    "    x = preprocess_input(inputs)\n",
    "    # set training to False to avoid tracking statistics in batch norm layer\n",
    "    x = base_model(x, training=False)\n",
    "    # add new binary classification layers\n",
    "    x = tf.keras.layers.GlobalAveragePooling2D()(x)\n",
    "    # include dropout with probability of 0.2 to avoid overfitting\n",
    "    x = tf.keras.layers.Dropout(0.2)(x)\n",
    "\n",
    "    # user prediction layer of one neuron (binary classifier only needs one - multiclass may need more)\n",
    "    prediction_layer = tf.keras.layers.Dense(1)\n",
    "    outputs = prediction_layer(x)\n",
    "\n",
    "    model = tf.keras.Model(inputs,outputs)\n",
    "    return model"
   ]
  },
  {
   "cell_type": "code",
   "execution_count": 55,
   "metadata": {},
   "outputs": [],
   "source": [
    "IMG_SIZE=(224,224)\n",
    "IMG_SHAPE = IMG_SIZE + (3,)\n",
    "def new_model2 (image_shape=IMG_SIZE):\n",
    "    input_shape = image_shape + (3,)\n",
    "    base_model = tf.keras.applications.MobileNetV3Large(input_shape=IMG_SHAPE,\n",
    "                                                        include_top=False, # important\n",
    "                                                        weights='imagenet')\n",
    "    \n",
    "    # freeze the base model\n",
    "    base_model.trainable = False\n",
    "\n",
    "    # unfreeze some layers\n",
    "    for layer in base_model.layers[-LAYERS_TO_UNFREEZE:]:\n",
    "        layer.trainable = True\n",
    "\n",
    "    print(\"Number of layers in the base model: \", len(base_model.layers))\n",
    "\n",
    "    # create input layer\n",
    "    inputs = tf.keras.Input(shape=input_shape)\n",
    "    # pre-process inputs\n",
    "    x = preprocess_input(inputs)\n",
    "    # set training to False to avoid tracking statistics in batch norm layer\n",
    "    x = base_model(x, training=False)\n",
    "    # add flatten layer\n",
    "    x = tf.keras.layers.Flatten()(x)\n",
    "    #x = tf.keras.layers.Dense(256, activation='relu')(x)\n",
    "    #x = tf.keras.layers.Dense(128, activation='relu')(x)\n",
    "    #x = tf.keras.layers.Dense(64, activation='relu')(x)\n",
    "    x = tf.keras.layers.Dense(32, activation='relu')(x)\n",
    "    x = tf.keras.layers.Dense(8, activation='relu')(x)\n",
    "\n",
    "    # include dropout with probability of 0.2 to avoid overfitting\n",
    "    #x = tf.keras.layers.Dropout(0.2)(x)\n",
    "\n",
    "    # user prediction layer of one neuron (binary classifier only needs one - multiclass may need more)\n",
    "#    prediction_layer = tf.keras.layers.Dense(1)\n",
    "#    outputs = prediction_layer(x)\n",
    "    outputs = x\n",
    "\n",
    "    model = tf.keras.Model(inputs,outputs)\n",
    "    return model"
   ]
  },
  {
   "cell_type": "code",
   "execution_count": 58,
   "metadata": {},
   "outputs": [],
   "source": [
    "# Define the learning rate scheduler\n",
    "from tensorflow.keras import backend as K\n",
    "from tensorflow.keras.optimizers.schedules import ExponentialDecay\n",
    "\n",
    "def lr_scheduler(epoch, lr, decay_rate=0.8, decay_step=1):\n",
    "    if epoch % decay_step == 0:\n",
    "        return lr * decay_rate\n",
    "    return lr\n",
    "\n",
    "def lr_scheduler2(lr, epoch_decay, layer_decay, model):\n",
    "    \n",
    "    trainable_layers = []\n",
    "    learning_rate_schedule = {}\n",
    "    # Get all the trainable layers\n",
    "    for layer in model.layers:\n",
    "        if layer.name.startswith('Mobilenet'):\n",
    "            for mobilenet_layer in layer.layers:\n",
    "                if mobilenet_layer.trainable:\n",
    "                    pass\n",
    "                    #trainable_layers.append(mobilenet_layer.name)\n",
    "        elif layer.trainable:\n",
    "            trainable_layers.append(layer.name)\n",
    "\n",
    "    # Create the learning rate schedule\n",
    "    for layer in trainable_layers:\n",
    "        learning_rate_schedule[layer] = ExponentialDecay(initial_learning_rate=lr, decay_steps=1, decay_rate=epoch_decay)\n",
    "\n",
    "    print(learning_rate_schedule)\n",
    "\n",
    "    return learning_rate_schedule\n",
    "\n",
    "    #print('Trainable layers: ', len(trainable_layers))\n",
    "    #print('Trainable layers: ', trainable_layers)"
   ]
  },
  {
   "cell_type": "markdown",
   "metadata": {},
   "source": [
    "## Train the model"
   ]
  },
  {
   "cell_type": "code",
   "execution_count": 64,
   "metadata": {},
   "outputs": [
    {
     "name": "stdout",
     "output_type": "stream",
     "text": [
      "Number of layers in the base model:  263\n",
      "Model: \"model_27\"\n",
      "_________________________________________________________________\n",
      " Layer (type)                Output Shape              Param #   \n",
      "=================================================================\n",
      " input_57 (InputLayer)       [(None, 224, 224, 3)]     0         \n",
      "                                                                 \n",
      " MobilenetV3large (Function  (None, 7, 7, 960)         2996352   \n",
      " al)                                                             \n",
      "                                                                 \n",
      " flatten_28 (Flatten)        (None, 47040)             0         \n",
      "                                                                 \n",
      " dense_60 (Dense)            (None, 32)                1505312   \n",
      "                                                                 \n",
      " dense_61 (Dense)            (None, 8)                 264       \n",
      "                                                                 \n",
      "=================================================================\n",
      "Total params: 4501928 (17.17 MB)\n",
      "Trainable params: 1505576 (5.74 MB)\n",
      "Non-trainable params: 2996352 (11.43 MB)\n",
      "_________________________________________________________________\n",
      "None\n",
      "{'input_57': <keras.src.optimizers.schedules.learning_rate_schedule.ExponentialDecay object at 0x2960beb00>, 'flatten_28': <keras.src.optimizers.schedules.learning_rate_schedule.ExponentialDecay object at 0x29cc46a70>, 'dense_60': <keras.src.optimizers.schedules.learning_rate_schedule.ExponentialDecay object at 0x29cc447f0>, 'dense_61': <keras.src.optimizers.schedules.learning_rate_schedule.ExponentialDecay object at 0x29cc46b60>}\n",
      "Epoch 1/10\n"
     ]
    },
    {
     "ename": "ValueError",
     "evalue": "in user code:\n\n    File \"/Users/kdevoe/Documents/CS/Masters/AAI501/Group Project/aai501-su23-group-1/env6/lib/python3.10/site-packages/keras/src/engine/training.py\", line 1338, in train_function  *\n        return step_function(self, iterator)\n    File \"/Users/kdevoe/Documents/CS/Masters/AAI501/Group Project/aai501-su23-group-1/env6/lib/python3.10/site-packages/keras/src/engine/training.py\", line 1322, in step_function  **\n        outputs = model.distribute_strategy.run(run_step, args=(data,))\n    File \"/Users/kdevoe/Documents/CS/Masters/AAI501/Group Project/aai501-su23-group-1/env6/lib/python3.10/site-packages/keras/src/engine/training.py\", line 1303, in run_step  **\n        outputs = model.train_step(data)\n    File \"/Users/kdevoe/Documents/CS/Masters/AAI501/Group Project/aai501-su23-group-1/env6/lib/python3.10/site-packages/keras/src/engine/training.py\", line 1084, in train_step\n        self.optimizer.minimize(loss, self.trainable_variables, tape=tape)\n    File \"/Users/kdevoe/Documents/CS/Masters/AAI501/Group Project/aai501-su23-group-1/env6/lib/python3.10/site-packages/keras/src/optimizers/legacy/optimizer_v2.py\", line 601, in minimize\n        return self.apply_gradients(grads_and_vars, name=name)\n    File \"/Users/kdevoe/Documents/CS/Masters/AAI501/Group Project/aai501-su23-group-1/env6/lib/python3.10/site-packages/keras/src/optimizers/legacy/optimizer_v2.py\", line 717, in apply_gradients\n        self._create_all_weights(var_list)\n    File \"/Users/kdevoe/Documents/CS/Masters/AAI501/Group Project/aai501-su23-group-1/env6/lib/python3.10/site-packages/keras/src/optimizers/legacy/optimizer_v2.py\", line 980, in _create_all_weights\n        self._create_hypers()\n    File \"/Users/kdevoe/Documents/CS/Masters/AAI501/Group Project/aai501-su23-group-1/env6/lib/python3.10/site-packages/keras/src/optimizers/legacy/optimizer_v2.py\", line 1148, in _create_hypers\n        self._hyper[name] = self.add_weight(\n    File \"/Users/kdevoe/Documents/CS/Masters/AAI501/Group Project/aai501-su23-group-1/env6/lib/python3.10/site-packages/keras/src/optimizers/legacy/optimizer_v2.py\", line 1374, in add_weight\n        variable = self._add_variable_with_custom_getter(\n    File \"/Users/kdevoe/Documents/CS/Masters/AAI501/Group Project/aai501-su23-group-1/env6/lib/python3.10/site-packages/keras/src/engine/base_layer_utils.py\", line 137, in make_variable\n        return tf1.Variable(\n\n    ValueError: Attempt to convert a value ({'input_57': <keras.src.optimizers.schedules.learning_rate_schedule.ExponentialDecay object at 0x2960beb00>, 'flatten_28': <keras.src.optimizers.schedules.learning_rate_schedule.ExponentialDecay object at 0x29cc46a70>, 'dense_60': <keras.src.optimizers.schedules.learning_rate_schedule.ExponentialDecay object at 0x29cc447f0>, 'dense_61': <keras.src.optimizers.schedules.learning_rate_schedule.ExponentialDecay object at 0x29cc46b60>}) with an unsupported type (<class 'dict'>) to a Tensor.\n",
     "output_type": "error",
     "traceback": [
      "\u001b[0;31m---------------------------------------------------------------------------\u001b[0m",
      "\u001b[0;31mValueError\u001b[0m                                Traceback (most recent call last)",
      "Cell \u001b[0;32mIn[64], line 21\u001b[0m\n\u001b[1;32m     16\u001b[0m project5_model\u001b[39m.\u001b[39mcompile(optimizer\u001b[39m=\u001b[39madam_optimizer,\n\u001b[1;32m     17\u001b[0m             loss\u001b[39m=\u001b[39mtf\u001b[39m.\u001b[39mkeras\u001b[39m.\u001b[39mlosses\u001b[39m.\u001b[39mSparseCategoricalCrossentropy(from_logits\u001b[39m=\u001b[39m\u001b[39mTrue\u001b[39;00m),\n\u001b[1;32m     18\u001b[0m             metrics\u001b[39m=\u001b[39m[\u001b[39m'\u001b[39m\u001b[39maccuracy\u001b[39m\u001b[39m'\u001b[39m])\n\u001b[1;32m     20\u001b[0m initial_epochs \u001b[39m=\u001b[39m \u001b[39m10\u001b[39m\n\u001b[0;32m---> 21\u001b[0m history \u001b[39m=\u001b[39m project5_model\u001b[39m.\u001b[39;49mfit(\n\u001b[1;32m     22\u001b[0m     train_dataset, \n\u001b[1;32m     23\u001b[0m     epochs\u001b[39m=\u001b[39;49minitial_epochs,\n\u001b[1;32m     24\u001b[0m     \u001b[39m#callbacks=[callback],\u001b[39;49;00m\n\u001b[1;32m     25\u001b[0m     verbose\u001b[39m=\u001b[39;49m\u001b[39m1\u001b[39;49m,\n\u001b[1;32m     26\u001b[0m     validation_data\u001b[39m=\u001b[39;49mval_dataset)\n\u001b[1;32m     27\u001b[0m project5_model\u001b[39m.\u001b[39msummary()\n",
      "File \u001b[0;32m~/Documents/CS/Masters/AAI501/Group Project/aai501-su23-group-1/env6/lib/python3.10/site-packages/keras/src/utils/traceback_utils.py:70\u001b[0m, in \u001b[0;36mfilter_traceback.<locals>.error_handler\u001b[0;34m(*args, **kwargs)\u001b[0m\n\u001b[1;32m     67\u001b[0m     filtered_tb \u001b[39m=\u001b[39m _process_traceback_frames(e\u001b[39m.\u001b[39m__traceback__)\n\u001b[1;32m     68\u001b[0m     \u001b[39m# To get the full stack trace, call:\u001b[39;00m\n\u001b[1;32m     69\u001b[0m     \u001b[39m# `tf.debugging.disable_traceback_filtering()`\u001b[39;00m\n\u001b[0;32m---> 70\u001b[0m     \u001b[39mraise\u001b[39;00m e\u001b[39m.\u001b[39mwith_traceback(filtered_tb) \u001b[39mfrom\u001b[39;00m \u001b[39mNone\u001b[39;00m\n\u001b[1;32m     71\u001b[0m \u001b[39mfinally\u001b[39;00m:\n\u001b[1;32m     72\u001b[0m     \u001b[39mdel\u001b[39;00m filtered_tb\n",
      "File \u001b[0;32m/var/folders/v3/6g8j12qj0yd6zlbh6nr578p80000gn/T/__autograph_generated_filelj1x1ppn.py:15\u001b[0m, in \u001b[0;36mouter_factory.<locals>.inner_factory.<locals>.tf__train_function\u001b[0;34m(iterator)\u001b[0m\n\u001b[1;32m     13\u001b[0m \u001b[39mtry\u001b[39;00m:\n\u001b[1;32m     14\u001b[0m     do_return \u001b[39m=\u001b[39m \u001b[39mTrue\u001b[39;00m\n\u001b[0;32m---> 15\u001b[0m     retval_ \u001b[39m=\u001b[39m ag__\u001b[39m.\u001b[39mconverted_call(ag__\u001b[39m.\u001b[39mld(step_function), (ag__\u001b[39m.\u001b[39mld(\u001b[39mself\u001b[39m), ag__\u001b[39m.\u001b[39mld(iterator)), \u001b[39mNone\u001b[39;00m, fscope)\n\u001b[1;32m     16\u001b[0m \u001b[39mexcept\u001b[39;00m:\n\u001b[1;32m     17\u001b[0m     do_return \u001b[39m=\u001b[39m \u001b[39mFalse\u001b[39;00m\n",
      "\u001b[0;31mValueError\u001b[0m: in user code:\n\n    File \"/Users/kdevoe/Documents/CS/Masters/AAI501/Group Project/aai501-su23-group-1/env6/lib/python3.10/site-packages/keras/src/engine/training.py\", line 1338, in train_function  *\n        return step_function(self, iterator)\n    File \"/Users/kdevoe/Documents/CS/Masters/AAI501/Group Project/aai501-su23-group-1/env6/lib/python3.10/site-packages/keras/src/engine/training.py\", line 1322, in step_function  **\n        outputs = model.distribute_strategy.run(run_step, args=(data,))\n    File \"/Users/kdevoe/Documents/CS/Masters/AAI501/Group Project/aai501-su23-group-1/env6/lib/python3.10/site-packages/keras/src/engine/training.py\", line 1303, in run_step  **\n        outputs = model.train_step(data)\n    File \"/Users/kdevoe/Documents/CS/Masters/AAI501/Group Project/aai501-su23-group-1/env6/lib/python3.10/site-packages/keras/src/engine/training.py\", line 1084, in train_step\n        self.optimizer.minimize(loss, self.trainable_variables, tape=tape)\n    File \"/Users/kdevoe/Documents/CS/Masters/AAI501/Group Project/aai501-su23-group-1/env6/lib/python3.10/site-packages/keras/src/optimizers/legacy/optimizer_v2.py\", line 601, in minimize\n        return self.apply_gradients(grads_and_vars, name=name)\n    File \"/Users/kdevoe/Documents/CS/Masters/AAI501/Group Project/aai501-su23-group-1/env6/lib/python3.10/site-packages/keras/src/optimizers/legacy/optimizer_v2.py\", line 717, in apply_gradients\n        self._create_all_weights(var_list)\n    File \"/Users/kdevoe/Documents/CS/Masters/AAI501/Group Project/aai501-su23-group-1/env6/lib/python3.10/site-packages/keras/src/optimizers/legacy/optimizer_v2.py\", line 980, in _create_all_weights\n        self._create_hypers()\n    File \"/Users/kdevoe/Documents/CS/Masters/AAI501/Group Project/aai501-su23-group-1/env6/lib/python3.10/site-packages/keras/src/optimizers/legacy/optimizer_v2.py\", line 1148, in _create_hypers\n        self._hyper[name] = self.add_weight(\n    File \"/Users/kdevoe/Documents/CS/Masters/AAI501/Group Project/aai501-su23-group-1/env6/lib/python3.10/site-packages/keras/src/optimizers/legacy/optimizer_v2.py\", line 1374, in add_weight\n        variable = self._add_variable_with_custom_getter(\n    File \"/Users/kdevoe/Documents/CS/Masters/AAI501/Group Project/aai501-su23-group-1/env6/lib/python3.10/site-packages/keras/src/engine/base_layer_utils.py\", line 137, in make_variable\n        return tf1.Variable(\n\n    ValueError: Attempt to convert a value ({'input_57': <keras.src.optimizers.schedules.learning_rate_schedule.ExponentialDecay object at 0x2960beb00>, 'flatten_28': <keras.src.optimizers.schedules.learning_rate_schedule.ExponentialDecay object at 0x29cc46a70>, 'dense_60': <keras.src.optimizers.schedules.learning_rate_schedule.ExponentialDecay object at 0x29cc447f0>, 'dense_61': <keras.src.optimizers.schedules.learning_rate_schedule.ExponentialDecay object at 0x29cc46b60>}) with an unsupported type (<class 'dict'>) to a Tensor.\n"
     ]
    }
   ],
   "source": [
    "project5_model = new_model2(IMG_SIZE)\n",
    "\n",
    "print(project5_model.summary())\n",
    "\n",
    "lr_schedule = lr_scheduler2(0.001, 0.5, 0.5, project5_model)\n",
    "\n",
    "\n",
    "\n",
    "#base_learning_rate = 0.001\n",
    "#opt = tf.keras.optimizers.legacy.SGD(learning_rate=base_learning_rate, momentum=0.9)\n",
    "#project5_model.compile(optimizer=opt,\n",
    "#            loss=tf.keras.losses.MeanAbsoluteError(),\n",
    "#            metrics=[\"accuracy\"])\n",
    "adam_optimizer = tf.keras.optimizers.legacy.Adam(learning_rate=lr_schedule)\n",
    "#callback = tf.keras.callbacks.LearningRateScheduler(lr_scheduler(decay_rate=0.5))\n",
    "project5_model.compile(optimizer=adam_optimizer,\n",
    "            loss=tf.keras.losses.SparseCategoricalCrossentropy(from_logits=True),\n",
    "            metrics=['accuracy'])\n",
    "\n",
    "initial_epochs = 10\n",
    "history = project5_model.fit(\n",
    "    train_dataset, \n",
    "    epochs=initial_epochs,\n",
    "    #callbacks=[callback],\n",
    "    verbose=1,\n",
    "    validation_data=val_dataset)\n",
    "project5_model.summary()"
   ]
  },
  {
   "cell_type": "code",
   "execution_count": null,
   "metadata": {},
   "outputs": [],
   "source": [
    "loss0, accuracy0 = project5_model.evaluate(val_dataset)\n",
    "\n",
    "print(\"initial loss: {:.2f}\".format(loss0))\n",
    "print(\"initial accuracy: {:.2f}\".format(accuracy0))"
   ]
  },
  {
   "cell_type": "code",
   "execution_count": null,
   "metadata": {},
   "outputs": [],
   "source": []
  },
  {
   "cell_type": "code",
   "execution_count": null,
   "metadata": {},
   "outputs": [],
   "source": []
  }
 ],
 "metadata": {
  "kernelspec": {
   "display_name": "Python 3 (ipykernel)",
   "language": "python",
   "name": "python3"
  },
  "language_info": {
   "codemirror_mode": {
    "name": "ipython",
    "version": 3
   },
   "file_extension": ".py",
   "mimetype": "text/x-python",
   "name": "python",
   "nbconvert_exporter": "python",
   "pygments_lexer": "ipython3",
   "version": "3.10.6"
  }
 },
 "nbformat": 4,
 "nbformat_minor": 4
}
