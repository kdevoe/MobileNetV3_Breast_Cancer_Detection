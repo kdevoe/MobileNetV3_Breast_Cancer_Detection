{
 "cells": [
  {
   "attachments": {},
   "cell_type": "markdown",
   "metadata": {},
   "source": [
    "## Library Imports"
   ]
  },
  {
   "cell_type": "code",
   "execution_count": 1,
   "metadata": {},
   "outputs": [],
   "source": [
    "import numpy as np\n",
    "import tensorflow as tf\n",
    "import pandas as pd\n",
    "from tensorflow import keras\n",
    "from tensorflow.keras.layers import Dense, Activation\n",
    "from tensorflow.keras.optimizers import Adam\n",
    "from tensorflow.keras.metrics import categorical_crossentropy\n",
    "from tensorflow.keras.preprocessing.image import ImageDataGenerator\n",
    "from tensorflow.keras.preprocessing import image\n",
    "from tensorflow.keras.preprocessing import image_dataset_from_directory\n",
    "from tensorflow.keras.models import Model\n",
    "from tensorflow.keras.applications import imagenet_utils\n",
    "from sklearn.metrics import confusion_matrix\n",
    "\n",
    "import itertools\n",
    "import os\n",
    "import shutil\n",
    "import random\n",
    "from time import time\n",
    "import matplotlib.pyplot as plt\n",
    "#import pillow as pil\n",
    "%matplotlib inline"
   ]
  },
  {
   "cell_type": "code",
   "execution_count": 2,
   "metadata": {},
   "outputs": [],
   "source": [
    "DATA_PATH = 'SampleData'\n",
    "#NUM_LAYERS_TO_REMOVE = 5\n",
    "#NUM_LAYERS_TO_TRAIN = 20\n",
    "LAYERS_TO_UNFREEZE = 0"
   ]
  },
  {
   "attachments": {},
   "cell_type": "markdown",
   "metadata": {},
   "source": [
    "## Create image pre-processing function"
   ]
  },
  {
   "cell_type": "code",
   "execution_count": 3,
   "metadata": {},
   "outputs": [],
   "source": [
    "# Function to preprocess the image with Keras\n",
    "preprocess_input = tf.keras.applications.mobilenet_v3.preprocess_input\n",
    "#def image_preprocessing(file):\n",
    "#    img = image.load_img(file, target_size=(224, 224))\n",
    "#    img_array = image.img_to_array(img)\n",
    "#    img_array_expanded_dims = np.expand_dims(img_array, axis=0)\n",
    "#    return tf.keras.applications.mobilenet_v3.preprocess_input(img_array_expanded_dims)"
   ]
  },
  {
   "cell_type": "markdown",
   "metadata": {},
   "source": [
    "## Load the metadata file.  Create a ground truth column."
   ]
  },
  {
   "cell_type": "code",
   "execution_count": 4,
   "metadata": {},
   "outputs": [],
   "source": [
    "# Load the metadata file\n",
    "#metadata = pd.read_excel('metadata_modified.xlsx')\n",
    "#image_path = metadata['Image Path']\n",
    "# Create the ground truth values and put it into a new 'g_truth' column\n",
    "#g_truth = metadata['Malignant'] + metadata['A']*2 + metadata['F']*4 + metadata['PT']*8 + metadata['TA']*16 + metadata['DC']*32 + metadata['LC']*64 + metadata['MC']*128 + metadata['PC']*256\n",
    "#metadata['g_truth'] = g_truth"
   ]
  },
  {
   "cell_type": "markdown",
   "metadata": {},
   "source": [
    "## Display a test image"
   ]
  },
  {
   "cell_type": "code",
   "execution_count": 6,
   "metadata": {},
   "outputs": [
    {
     "name": "stdout",
     "output_type": "stream",
     "text": [
      "WARNING:tensorflow:`input_shape` is undefined or non-square, or `rows` is not 224. Weights for input shape (224, 224) will be loaded as the default.\n"
     ]
    }
   ],
   "source": [
    "mobile_v3 = tf.keras.applications.MobileNetV3Large()\n",
    "#preprocessed_image = image_preprocessing(image_path[7117])\n",
    "#predictions = mobile_v3.predict(preprocessed_image)\n",
    "#print(\"Output shape: \", predictions.shape)\n",
    "#results = imagenet_utils.decode_predictions(predictions)\n",
    "#results"
   ]
  },
  {
   "attachments": {},
   "cell_type": "markdown",
   "metadata": {},
   "source": [
    "Remove the specifiied number of layers.\n",
    "Freeze the specified number of layers."
   ]
  },
  {
   "attachments": {},
   "cell_type": "markdown",
   "metadata": {},
   "source": [
    "## Define the training and validation datasets"
   ]
  },
  {
   "cell_type": "code",
   "execution_count": 8,
   "metadata": {},
   "outputs": [
    {
     "name": "stdout",
     "output_type": "stream",
     "text": [
      "Found 7909 files belonging to 8 classes.\n",
      "Using 5932 files for training.\n",
      "Found 7909 files belonging to 8 classes.\n",
      "Using 1977 files for validation.\n"
     ]
    }
   ],
   "source": [
    "path_to_files = 'BreaKHis_v1/BreaKHis_v1/histology_slides/breast/'\n",
    "train_dataset = tf.keras.preprocessing.image_dataset_from_directory(\n",
    "  path_to_files,\n",
    "  validation_split=0.25,\n",
    "  subset=\"training\",\n",
    "  seed=42,\n",
    "  image_size=(224, 224),\n",
    "#  batch_size=32,\n",
    "  shuffle=True\n",
    ")\n",
    "  \n",
    "val_dataset = tf.keras.preprocessing.image_dataset_from_directory(\n",
    "  path_to_files,\n",
    "  validation_split=0.25,\n",
    "  subset=\"validation\",\n",
    "  seed=42,\n",
    "  image_size=(224, 224),\n",
    "#  batch_size=32,\n",
    "  shuffle=True\n",
    ")\n",
    "#val_batches = tf.data.experimental.cardinality(val_dataset)\n",
    "#val_dataset = val_dataset.take((2*val_batches) // 5)\n",
    "#test_dataset = val_dataset.skip((2*val_batches) // 5)\n"
   ]
  },
  {
   "cell_type": "markdown",
   "metadata": {},
   "source": [
    "## Use AUTOTUNE to decrease I/O roadblocks"
   ]
  },
  {
   "cell_type": "code",
   "execution_count": 9,
   "metadata": {},
   "outputs": [],
   "source": [
    "AUTOTUNE = tf.data.AUTOTUNE\n",
    "\n",
    "train_dataset = train_dataset.prefetch(buffer_size=AUTOTUNE)\n",
    "valid_dataset = val_dataset.prefetch(buffer_size=AUTOTUNE)\n",
    "#test_dataset = test_dataset.prefetch(buffer_size=AUTOTUNE)"
   ]
  },
  {
   "cell_type": "markdown",
   "metadata": {},
   "source": [
    "## Define the model"
   ]
  },
  {
   "cell_type": "code",
   "execution_count": 10,
   "metadata": {},
   "outputs": [],
   "source": [
    "IMG_SIZE=(224,224)\n",
    "IMG_SHAPE = IMG_SIZE + (3,)\n",
    "def new_model (image_shape=IMG_SIZE):\n",
    "    input_shape = image_shape + (3,)\n",
    "    base_model = tf.keras.applications.MobileNetV3Large(input_shape=IMG_SHAPE,\n",
    "                                                        include_top=False, # important\n",
    "                                                        weights='imagenet')\n",
    "    \n",
    "    # freeze the base model\n",
    "    base_model.trainable = False\n",
    "\n",
    "    # unfreeze some layers\n",
    "    for layer in base_model.layers[-LAYERS_TO_UNFREEZE:]:\n",
    "        layer.trainable = True\n",
    "\n",
    "    print(\"Number of layers in the base model: \", len(base_model.layers))\n",
    "\n",
    "    # create input layer\n",
    "    inputs = tf.keras.Input(shape=input_shape)\n",
    "    # pre-process inputs\n",
    "    x = preprocess_input(inputs)\n",
    "    # set training to False to avoid tracking statistics in batch norm layer\n",
    "    x = base_model(x, training=False)\n",
    "    # add flatten layer\n",
    "    x = tf.keras.layers.Flatten()(x)\n",
    "    x = tf.keras.layers.Dense(32, activation='relu')(x)\n",
    "    x = tf.keras.layers.Dropout(0.2)(x)\n",
    "    x = tf.keras.layers.Dense(8, activation='relu')(x)\n",
    "\n",
    "    outputs = x\n",
    "\n",
    "    model = tf.keras.Model(inputs,outputs)\n",
    "    return model"
   ]
  },
  {
   "cell_type": "code",
   "execution_count": 11,
   "metadata": {},
   "outputs": [
    {
     "name": "stderr",
     "output_type": "stream",
     "text": [
      "/Users/kdevoe/Documents/CS/Masters/AAI501/Group Project/aai501-su23-group-1/env7/lib/python3.10/site-packages/tensorflow_addons/utils/tfa_eol_msg.py:23: UserWarning: \n",
      "\n",
      "TensorFlow Addons (TFA) has ended development and introduction of new features.\n",
      "TFA has entered a minimal maintenance and release mode until a planned end of life in May 2024.\n",
      "Please modify downstream libraries to take dependencies from other repositories in our TensorFlow community (e.g. Keras, Keras-CV, and Keras-NLP). \n",
      "\n",
      "For more information see: https://github.com/tensorflow/addons/issues/2807 \n",
      "\n",
      "  warnings.warn(\n"
     ]
    }
   ],
   "source": [
    "# Define the learning rate scheduler\n",
    "from tensorflow.keras import backend as K\n",
    "from tensorflow.keras.optimizers.schedules import ExponentialDecay\n",
    "import tensorflow_addons as tfa\n",
    "\n",
    "def lr_scheduler(lr, epoch_decay, layer_decay, model):\n",
    "    optimizers_and_layers = []\n",
    "\n",
    "    # Get all the trainable layers\n",
    "    for layer in model.layers:\n",
    "        if layer.name.startswith('Mobilenet'):\n",
    "            for mobilenet_layer in layer.layers:\n",
    "                if mobilenet_layer.trainable:\n",
    "                    schedule = ExponentialDecay(initial_learning_rate=lr, decay_steps=1, decay_rate=epoch_decay)\n",
    "                    optimizers_and_layers.append((tf.keras.optimizers.legacy.Adam(learning_rate=schedule), mobilenet_layer))\n",
    "                    \n",
    "        elif layer.trainable:\n",
    "            schedule = ExponentialDecay(initial_learning_rate=lr, decay_steps=1, decay_rate=epoch_decay)\n",
    "            optimizers_and_layers.append((tf.keras.optimizers.legacy.Adam(learning_rate=schedule), layer))\n",
    "\n",
    "    # Create the learning rate schedule\n",
    "    optimizer = tfa.optimizers.MultiOptimizer(optimizers_and_layers)\n",
    "\n",
    "    return optimizer"
   ]
  },
  {
   "cell_type": "code",
   "execution_count": null,
   "metadata": {},
   "outputs": [],
   "source": []
  },
  {
   "cell_type": "markdown",
   "metadata": {},
   "source": [
    "## Train the model"
   ]
  },
  {
   "cell_type": "code",
   "execution_count": 14,
   "metadata": {},
   "outputs": [],
   "source": [
    "def train_model(model, train_dataset, val_dataset, params):\n",
    "\n",
    "    # Unpack parameters\n",
    "    num_epochs = params['num_epochs']\n",
    "    lr = params['lr']\n",
    "    epoch_decay = params['epoch_decay']\n",
    "    layer_decay = params['layer_decay']\n",
    "\n",
    "\n",
    "    optimizer = lr_scheduler(lr, epoch_decay, layer_decay, model)\n",
    "\n",
    "    model.compile(optimizer=optimizer,\n",
    "                loss=tf.keras.losses.SparseCategoricalCrossentropy(from_logits=True),\n",
    "                metrics=['accuracy'])\n",
    "\n",
    "    history = model.fit(\n",
    "        train_dataset, \n",
    "        epochs=num_epochs,\n",
    "        verbose=1,\n",
    "        validation_data=val_dataset)\n",
    "\n",
    "    return history"
   ]
  },
  {
   "cell_type": "code",
   "execution_count": 16,
   "metadata": {},
   "outputs": [
    {
     "name": "stdout",
     "output_type": "stream",
     "text": [
      "Number of layers in the base model:  263\n",
      "Epoch 1/2\n",
      "186/186 [==============================] - 79s 413ms/step - loss: 3.3211 - accuracy: 0.3296 - val_loss: 2.6529 - val_accuracy: 0.4117\n",
      "Epoch 2/2\n",
      "186/186 [==============================] - 75s 398ms/step - loss: 3.2900 - accuracy: 0.3299 - val_loss: 2.6529 - val_accuracy: 0.4117\n"
     ]
    }
   ],
   "source": [
    "num_epochs = 2\n",
    "lr = 0.001\n",
    "epoch_decay = 0.5\n",
    "layer_decay = 0.5\n",
    "\n",
    "params = {\n",
    "    'num_epochs': num_epochs,\n",
    "    'lr': lr,\n",
    "    'epoch_decay': epoch_decay,\n",
    "    'layer_decay': layer_decay\n",
    "}\n",
    "\n",
    "model = new_model(IMG_SIZE)\n",
    "\n",
    "history = train_model(model, train_dataset, val_dataset, params)"
   ]
  },
  {
   "cell_type": "code",
   "execution_count": 19,
   "metadata": {},
   "outputs": [
    {
     "name": "stdout",
     "output_type": "stream",
     "text": [
      "[0.32956844568252563, 0.32990559935569763]\n"
     ]
    }
   ],
   "source": [
    "print(history.history['accuracy'])\n",
    "\n",
    "accuracy = history.history['accuracy']\n",
    "val_accuracy = history.history['val_accuracy']\n",
    "\n",
    "# Write the accuracy to a file\n",
    "\n"
   ]
  }
 ],
 "metadata": {
  "kernelspec": {
   "display_name": "Python 3 (ipykernel)",
   "language": "python",
   "name": "python3"
  },
  "language_info": {
   "codemirror_mode": {
    "name": "ipython",
    "version": 3
   },
   "file_extension": ".py",
   "mimetype": "text/x-python",
   "name": "python",
   "nbconvert_exporter": "python",
   "pygments_lexer": "ipython3",
   "version": "3.10.6"
  }
 },
 "nbformat": 4,
 "nbformat_minor": 4
}
