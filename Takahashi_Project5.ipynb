{
 "cells": [
  {
   "attachments": {},
   "cell_type": "markdown",
   "metadata": {},
   "source": [
    "## Library Imports"
   ]
  },
  {
   "cell_type": "code",
   "execution_count": 1,
   "metadata": {},
   "outputs": [],
   "source": [
    "import numpy as np\n",
    "import tensorflow as tf\n",
    "import pandas as pd\n",
    "from tensorflow import keras\n",
    "from tensorflow.keras.layers import Dense, Activation\n",
    "from tensorflow.keras.optimizers import Adam\n",
    "from tensorflow.keras.metrics import categorical_crossentropy\n",
    "from tensorflow.keras.preprocessing.image import ImageDataGenerator\n",
    "from tensorflow.keras.preprocessing import image\n",
    "from tensorflow.keras.preprocessing import image_dataset_from_directory\n",
    "from tensorflow.keras.models import Model\n",
    "from tensorflow.keras.applications import imagenet_utils\n",
    "from sklearn.metrics import confusion_matrix\n",
    "\n",
    "import itertools\n",
    "import os\n",
    "import shutil\n",
    "import random\n",
    "from time import time\n",
    "import matplotlib.pyplot as plt\n",
    "#import pillow as pil\n",
    "%matplotlib inline"
   ]
  },
  {
   "cell_type": "code",
   "execution_count": 18,
   "metadata": {},
   "outputs": [],
   "source": [
    "DATA_PATH = 'SampleData'\n",
    "NUM_LAYERS_TO_REMOVE = 5\n",
    "NUM_LAYERS_TO_TRAIN = 20\n",
    "LAYERS_TO_UNFREEZE = 3"
   ]
  },
  {
   "attachments": {},
   "cell_type": "markdown",
   "metadata": {},
   "source": [
    "## Create image pre-processing function"
   ]
  },
  {
   "cell_type": "code",
   "execution_count": 3,
   "metadata": {},
   "outputs": [],
   "source": [
    "# Function to preprocess the image with Keras\n",
    "preprocess_input = tf.keras.applications.mobilenet_v3.preprocess_input\n",
    "#def image_preprocessing(file):\n",
    "#    img = image.load_img(file, target_size=(224, 224))\n",
    "#    img_array = image.img_to_array(img)\n",
    "#    img_array_expanded_dims = np.expand_dims(img_array, axis=0)\n",
    "#    return tf.keras.applications.mobilenet_v3.preprocess_input(img_array_expanded_dims)"
   ]
  },
  {
   "cell_type": "markdown",
   "metadata": {},
   "source": [
    "## Load the metadata file.  Create a ground truth column."
   ]
  },
  {
   "cell_type": "code",
   "execution_count": 4,
   "metadata": {},
   "outputs": [
    {
     "ename": "FileNotFoundError",
     "evalue": "[Errno 2] No such file or directory: 'metadata_modified.xlsx'",
     "output_type": "error",
     "traceback": [
      "\u001b[0;31m---------------------------------------------------------------------------\u001b[0m",
      "\u001b[0;31mFileNotFoundError\u001b[0m                         Traceback (most recent call last)",
      "Cell \u001b[0;32mIn[4], line 2\u001b[0m\n\u001b[1;32m      1\u001b[0m \u001b[39m# Load the metadata file\u001b[39;00m\n\u001b[0;32m----> 2\u001b[0m metadata \u001b[39m=\u001b[39m pd\u001b[39m.\u001b[39;49mread_excel(\u001b[39m'\u001b[39;49m\u001b[39mmetadata_modified.xlsx\u001b[39;49m\u001b[39m'\u001b[39;49m)\n\u001b[1;32m      3\u001b[0m image_path \u001b[39m=\u001b[39m metadata[\u001b[39m'\u001b[39m\u001b[39mImage Path\u001b[39m\u001b[39m'\u001b[39m]\n\u001b[1;32m      4\u001b[0m \u001b[39m# Create the ground truth values and put it into a new 'g_truth' column\u001b[39;00m\n",
      "File \u001b[0;32m~/Documents/CS/Masters/AAI501/Group Project/aai501-su23-group-1/env5/lib/python3.10/site-packages/pandas/io/excel/_base.py:478\u001b[0m, in \u001b[0;36mread_excel\u001b[0;34m(io, sheet_name, header, names, index_col, usecols, dtype, engine, converters, true_values, false_values, skiprows, nrows, na_values, keep_default_na, na_filter, verbose, parse_dates, date_parser, date_format, thousands, decimal, comment, skipfooter, storage_options, dtype_backend)\u001b[0m\n\u001b[1;32m    476\u001b[0m \u001b[39mif\u001b[39;00m \u001b[39mnot\u001b[39;00m \u001b[39misinstance\u001b[39m(io, ExcelFile):\n\u001b[1;32m    477\u001b[0m     should_close \u001b[39m=\u001b[39m \u001b[39mTrue\u001b[39;00m\n\u001b[0;32m--> 478\u001b[0m     io \u001b[39m=\u001b[39m ExcelFile(io, storage_options\u001b[39m=\u001b[39;49mstorage_options, engine\u001b[39m=\u001b[39;49mengine)\n\u001b[1;32m    479\u001b[0m \u001b[39melif\u001b[39;00m engine \u001b[39mand\u001b[39;00m engine \u001b[39m!=\u001b[39m io\u001b[39m.\u001b[39mengine:\n\u001b[1;32m    480\u001b[0m     \u001b[39mraise\u001b[39;00m \u001b[39mValueError\u001b[39;00m(\n\u001b[1;32m    481\u001b[0m         \u001b[39m\"\u001b[39m\u001b[39mEngine should not be specified when passing \u001b[39m\u001b[39m\"\u001b[39m\n\u001b[1;32m    482\u001b[0m         \u001b[39m\"\u001b[39m\u001b[39man ExcelFile - ExcelFile already has the engine set\u001b[39m\u001b[39m\"\u001b[39m\n\u001b[1;32m    483\u001b[0m     )\n",
      "File \u001b[0;32m~/Documents/CS/Masters/AAI501/Group Project/aai501-su23-group-1/env5/lib/python3.10/site-packages/pandas/io/excel/_base.py:1496\u001b[0m, in \u001b[0;36mExcelFile.__init__\u001b[0;34m(self, path_or_buffer, engine, storage_options)\u001b[0m\n\u001b[1;32m   1494\u001b[0m     ext \u001b[39m=\u001b[39m \u001b[39m\"\u001b[39m\u001b[39mxls\u001b[39m\u001b[39m\"\u001b[39m\n\u001b[1;32m   1495\u001b[0m \u001b[39melse\u001b[39;00m:\n\u001b[0;32m-> 1496\u001b[0m     ext \u001b[39m=\u001b[39m inspect_excel_format(\n\u001b[1;32m   1497\u001b[0m         content_or_path\u001b[39m=\u001b[39;49mpath_or_buffer, storage_options\u001b[39m=\u001b[39;49mstorage_options\n\u001b[1;32m   1498\u001b[0m     )\n\u001b[1;32m   1499\u001b[0m     \u001b[39mif\u001b[39;00m ext \u001b[39mis\u001b[39;00m \u001b[39mNone\u001b[39;00m:\n\u001b[1;32m   1500\u001b[0m         \u001b[39mraise\u001b[39;00m \u001b[39mValueError\u001b[39;00m(\n\u001b[1;32m   1501\u001b[0m             \u001b[39m\"\u001b[39m\u001b[39mExcel file format cannot be determined, you must specify \u001b[39m\u001b[39m\"\u001b[39m\n\u001b[1;32m   1502\u001b[0m             \u001b[39m\"\u001b[39m\u001b[39man engine manually.\u001b[39m\u001b[39m\"\u001b[39m\n\u001b[1;32m   1503\u001b[0m         )\n",
      "File \u001b[0;32m~/Documents/CS/Masters/AAI501/Group Project/aai501-su23-group-1/env5/lib/python3.10/site-packages/pandas/io/excel/_base.py:1371\u001b[0m, in \u001b[0;36minspect_excel_format\u001b[0;34m(content_or_path, storage_options)\u001b[0m\n\u001b[1;32m   1368\u001b[0m \u001b[39mif\u001b[39;00m \u001b[39misinstance\u001b[39m(content_or_path, \u001b[39mbytes\u001b[39m):\n\u001b[1;32m   1369\u001b[0m     content_or_path \u001b[39m=\u001b[39m BytesIO(content_or_path)\n\u001b[0;32m-> 1371\u001b[0m \u001b[39mwith\u001b[39;00m get_handle(\n\u001b[1;32m   1372\u001b[0m     content_or_path, \u001b[39m\"\u001b[39;49m\u001b[39mrb\u001b[39;49m\u001b[39m\"\u001b[39;49m, storage_options\u001b[39m=\u001b[39;49mstorage_options, is_text\u001b[39m=\u001b[39;49m\u001b[39mFalse\u001b[39;49;00m\n\u001b[1;32m   1373\u001b[0m ) \u001b[39mas\u001b[39;00m handle:\n\u001b[1;32m   1374\u001b[0m     stream \u001b[39m=\u001b[39m handle\u001b[39m.\u001b[39mhandle\n\u001b[1;32m   1375\u001b[0m     stream\u001b[39m.\u001b[39mseek(\u001b[39m0\u001b[39m)\n",
      "File \u001b[0;32m~/Documents/CS/Masters/AAI501/Group Project/aai501-su23-group-1/env5/lib/python3.10/site-packages/pandas/io/common.py:868\u001b[0m, in \u001b[0;36mget_handle\u001b[0;34m(path_or_buf, mode, encoding, compression, memory_map, is_text, errors, storage_options)\u001b[0m\n\u001b[1;32m    859\u001b[0m         handle \u001b[39m=\u001b[39m \u001b[39mopen\u001b[39m(\n\u001b[1;32m    860\u001b[0m             handle,\n\u001b[1;32m    861\u001b[0m             ioargs\u001b[39m.\u001b[39mmode,\n\u001b[0;32m   (...)\u001b[0m\n\u001b[1;32m    864\u001b[0m             newline\u001b[39m=\u001b[39m\u001b[39m\"\u001b[39m\u001b[39m\"\u001b[39m,\n\u001b[1;32m    865\u001b[0m         )\n\u001b[1;32m    866\u001b[0m     \u001b[39melse\u001b[39;00m:\n\u001b[1;32m    867\u001b[0m         \u001b[39m# Binary mode\u001b[39;00m\n\u001b[0;32m--> 868\u001b[0m         handle \u001b[39m=\u001b[39m \u001b[39mopen\u001b[39;49m(handle, ioargs\u001b[39m.\u001b[39;49mmode)\n\u001b[1;32m    869\u001b[0m     handles\u001b[39m.\u001b[39mappend(handle)\n\u001b[1;32m    871\u001b[0m \u001b[39m# Convert BytesIO or file objects passed with an encoding\u001b[39;00m\n",
      "\u001b[0;31mFileNotFoundError\u001b[0m: [Errno 2] No such file or directory: 'metadata_modified.xlsx'"
     ]
    }
   ],
   "source": [
    "# Load the metadata file\n",
    "metadata = pd.read_excel('metadata_modified.xlsx')\n",
    "image_path = metadata['Image Path']\n",
    "# Create the ground truth values and put it into a new 'g_truth' column\n",
    "g_truth = metadata['Malignant'] + metadata['A']*2 + metadata['F']*4 + metadata['PT']*8 + metadata['TA']*16 + metadata['DC']*32 + metadata['LC']*64 + metadata['MC']*128 + metadata['PC']*256\n",
    "metadata['g_truth'] = g_truth"
   ]
  },
  {
   "cell_type": "markdown",
   "metadata": {},
   "source": [
    "## Display a test image"
   ]
  },
  {
   "cell_type": "code",
   "execution_count": 5,
   "metadata": {},
   "outputs": [
    {
     "ename": "NameError",
     "evalue": "name 'image_path' is not defined",
     "output_type": "error",
     "traceback": [
      "\u001b[0;31m---------------------------------------------------------------------------\u001b[0m",
      "\u001b[0;31mNameError\u001b[0m                                 Traceback (most recent call last)",
      "Cell \u001b[0;32mIn[5], line 3\u001b[0m\n\u001b[1;32m      1\u001b[0m \u001b[39m# Display test image\u001b[39;00m\n\u001b[1;32m      2\u001b[0m \u001b[39mfrom\u001b[39;00m \u001b[39mIPython\u001b[39;00m\u001b[39m.\u001b[39;00m\u001b[39mdisplay\u001b[39;00m \u001b[39mimport\u001b[39;00m Image\n\u001b[0;32m----> 3\u001b[0m Image(filename\u001b[39m=\u001b[39mimage_path[\u001b[39m0\u001b[39m], width\u001b[39m=\u001b[39m\u001b[39m300\u001b[39m,height\u001b[39m=\u001b[39m\u001b[39m200\u001b[39m)\n",
      "\u001b[0;31mNameError\u001b[0m: name 'image_path' is not defined"
     ]
    }
   ],
   "source": [
    "# Display test image\n",
    "from IPython.display import Image\n",
    "Image(filename=image_path[0], width=300,height=200)"
   ]
  },
  {
   "cell_type": "code",
   "execution_count": 6,
   "metadata": {},
   "outputs": [
    {
     "name": "stdout",
     "output_type": "stream",
     "text": [
      "WARNING:tensorflow:`input_shape` is undefined or non-square, or `rows` is not 224. Weights for input shape (224, 224) will be loaded as the default.\n"
     ]
    }
   ],
   "source": [
    "mobile_v3 = tf.keras.applications.MobileNetV3Large()\n",
    "#preprocessed_image = image_preprocessing(image_path[7117])\n",
    "#predictions = mobile_v3.predict(preprocessed_image)\n",
    "#print(\"Output shape: \", predictions.shape)\n",
    "#results = imagenet_utils.decode_predictions(predictions)\n",
    "#results"
   ]
  },
  {
   "attachments": {},
   "cell_type": "markdown",
   "metadata": {},
   "source": [
    "Remove the specifiied number of layers.\n",
    "Freeze the specified number of layers."
   ]
  },
  {
   "cell_type": "code",
   "execution_count": 8,
   "metadata": {},
   "outputs": [],
   "source": [
    "# Remove last layers\n",
    "#x = mobile_v3.layers[-NUM_LAYERS_TO_REMOVE].output\n",
    "#output = Dense(units=2, activation='softmax')(x)\n",
    "\n",
    "# Freeze layers\n",
    "#for layer in new_model.layers[:-NUM_LAYERS_TO_TRAIN]:\n",
    "#    layer.trainable = False                            "
   ]
  },
  {
   "attachments": {},
   "cell_type": "markdown",
   "metadata": {},
   "source": [
    "## Define the training and validation datasets"
   ]
  },
  {
   "cell_type": "code",
   "execution_count": 7,
   "metadata": {},
   "outputs": [
    {
     "name": "stdout",
     "output_type": "stream",
     "text": [
      "Found 7909 files belonging to 8 classes.\n",
      "Using 5932 files for training.\n",
      "Found 7909 files belonging to 8 classes.\n",
      "Using 1977 files for validation.\n"
     ]
    }
   ],
   "source": [
    "path_to_files = 'BreaKHis_v1/BreaKHis_v1/histology_slides/breast/'\n",
    "train_dataset = tf.keras.preprocessing.image_dataset_from_directory(\n",
    "  path_to_files,\n",
    "  validation_split=0.25,\n",
    "  subset=\"training\",\n",
    "  seed=42,\n",
    "  image_size=(224, 224),\n",
    "#  batch_size=32,\n",
    "  shuffle=True\n",
    ")\n",
    "  \n",
    "val_dataset = tf.keras.preprocessing.image_dataset_from_directory(\n",
    "  path_to_files,\n",
    "  validation_split=0.25,\n",
    "  subset=\"validation\",\n",
    "  seed=42,\n",
    "  image_size=(224, 224),\n",
    "#  batch_size=32,\n",
    "  shuffle=True\n",
    ")\n",
    "#val_batches = tf.data.experimental.cardinality(val_dataset)\n",
    "#val_dataset = val_dataset.take((2*val_batches) // 5)\n",
    "#test_dataset = val_dataset.skip((2*val_batches) // 5)\n"
   ]
  },
  {
   "cell_type": "markdown",
   "metadata": {},
   "source": [
    "## Use AUTOTUNE to decrease I/O roadblocks"
   ]
  },
  {
   "cell_type": "code",
   "execution_count": 8,
   "metadata": {},
   "outputs": [],
   "source": [
    "AUTOTUNE = tf.data.AUTOTUNE\n",
    "\n",
    "train_dataset = train_dataset.prefetch(buffer_size=AUTOTUNE)\n",
    "valid_dataset = val_dataset.prefetch(buffer_size=AUTOTUNE)\n",
    "#test_dataset = test_dataset.prefetch(buffer_size=AUTOTUNE)"
   ]
  },
  {
   "cell_type": "markdown",
   "metadata": {},
   "source": [
    "## Define the model"
   ]
  },
  {
   "cell_type": "code",
   "execution_count": 9,
   "metadata": {},
   "outputs": [],
   "source": [
    "IMG_SIZE=(224,224)\n",
    "IMG_SHAPE = IMG_SIZE + (3,)\n",
    "def new_model (image_shape=IMG_SIZE):\n",
    "    input_shape = image_shape + (3,)\n",
    "    base_model = tf.keras.applications.MobileNetV3Large(input_shape=IMG_SHAPE,\n",
    "                                                        include_top=False, # important\n",
    "                                                        weights='imagenet')\n",
    "    # freeze the base model\n",
    "    base_model.trainable = False\n",
    "    # create input layer\n",
    "    inputs = tf.keras.Input(shape=input_shape)\n",
    "    # pre-process inputs\n",
    "    x = preprocess_input(inputs)\n",
    "    # set training to False to avoid tracking statistics in batch norm layer\n",
    "    x = base_model(x, training=False)\n",
    "    # add new binary classification layers\n",
    "    x = tf.keras.layers.GlobalAveragePooling2D()(x)\n",
    "    # include dropout with probability of 0.2 to avoid overfitting\n",
    "    x = tf.keras.layers.Dropout(0.2)(x)\n",
    "\n",
    "    # user prediction layer of one neuron (binary classifier only needs one - multiclass may need more)\n",
    "    prediction_layer = tf.keras.layers.Dense(1)\n",
    "    outputs = prediction_layer(x)\n",
    "\n",
    "    model = tf.keras.Model(inputs,outputs)\n",
    "    return model"
   ]
  },
  {
   "cell_type": "code",
   "execution_count": 16,
   "metadata": {},
   "outputs": [],
   "source": [
    "IMG_SIZE=(224,224)\n",
    "IMG_SHAPE = IMG_SIZE + (3,)\n",
    "def new_model2 (image_shape=IMG_SIZE):\n",
    "    input_shape = image_shape + (3,)\n",
    "    base_model = tf.keras.applications.MobileNetV3Large(input_shape=IMG_SHAPE,\n",
    "                                                        include_top=False, # important\n",
    "                                                        weights='imagenet')\n",
    "    \n",
    "    # freeze the base model\n",
    "    base_model.trainable = False\n",
    "\n",
    "    # unfreeze some layers\n",
    "    for layer in base_model.layers[-LAYERS_TO_UNFREEZE:]:\n",
    "        layer.trainable = True\n",
    "\n",
    "    # create input layer\n",
    "    inputs = tf.keras.Input(shape=input_shape)\n",
    "    # pre-process inputs\n",
    "    x = preprocess_input(inputs)\n",
    "    # set training to False to avoid tracking statistics in batch norm layer\n",
    "    x = base_model(x, training=False)\n",
    "    # add flatten layer\n",
    "    x = tf.keras.layers.Flatten()(x)\n",
    "    #x = tf.keras.layers.Dense(256, activation='relu')(x)\n",
    "    x = tf.keras.layers.Dense(128, activation='relu')(x)\n",
    "    x = tf.keras.layers.Dense(64, activation='relu')(x)\n",
    "    x = tf.keras.layers.Dense(32, activation='relu')(x)\n",
    "    x = tf.keras.layers.Dense(8, activation='relu')(x)\n",
    "\n",
    "    # include dropout with probability of 0.2 to avoid overfitting\n",
    "    #x = tf.keras.layers.Dropout(0.2)(x)\n",
    "\n",
    "    # user prediction layer of one neuron (binary classifier only needs one - multiclass may need more)\n",
    "#    prediction_layer = tf.keras.layers.Dense(1)\n",
    "#    outputs = prediction_layer(x)\n",
    "    outputs = x\n",
    "\n",
    "    model = tf.keras.Model(inputs,outputs)\n",
    "    return model"
   ]
  },
  {
   "cell_type": "markdown",
   "metadata": {},
   "source": [
    "## Train the model"
   ]
  },
  {
   "cell_type": "code",
   "execution_count": 19,
   "metadata": {},
   "outputs": [
    {
     "name": "stdout",
     "output_type": "stream",
     "text": [
      "Epoch 1/10\n",
      "186/186 [==============================] - 128s 668ms/step - loss: 1.8100 - accuracy: 0.3321 - val_loss: 1.6045 - val_accuracy: 0.3971\n",
      "Epoch 2/10\n",
      "186/186 [==============================] - 119s 633ms/step - loss: 1.5253 - accuracy: 0.4132 - val_loss: 1.7029 - val_accuracy: 0.4360\n",
      "Epoch 3/10\n",
      "186/186 [==============================] - 117s 625ms/step - loss: 1.3760 - accuracy: 0.4420 - val_loss: 1.5991 - val_accuracy: 0.4057\n",
      "Epoch 4/10\n",
      "186/186 [==============================] - 113s 602ms/step - loss: 1.2908 - accuracy: 0.4862 - val_loss: 1.8617 - val_accuracy: 0.4593\n",
      "Epoch 5/10\n",
      "186/186 [==============================] - 109s 584ms/step - loss: 1.1980 - accuracy: 0.5367 - val_loss: 1.7688 - val_accuracy: 0.5078\n",
      "Epoch 6/10\n",
      "186/186 [==============================] - 118s 629ms/step - loss: 1.1197 - accuracy: 0.5486 - val_loss: 1.6956 - val_accuracy: 0.4932\n",
      "Epoch 7/10\n",
      "186/186 [==============================] - 119s 636ms/step - loss: 1.0792 - accuracy: 0.5563 - val_loss: 1.6554 - val_accuracy: 0.5008\n",
      "Epoch 8/10\n",
      "186/186 [==============================] - 123s 657ms/step - loss: 1.0746 - accuracy: 0.5641 - val_loss: 1.6579 - val_accuracy: 0.4780\n",
      "Epoch 9/10\n",
      "186/186 [==============================] - 121s 644ms/step - loss: 1.0738 - accuracy: 0.5637 - val_loss: 1.7360 - val_accuracy: 0.4760\n",
      "Epoch 10/10\n",
      "186/186 [==============================] - 115s 611ms/step - loss: 1.0540 - accuracy: 0.5686 - val_loss: 1.6556 - val_accuracy: 0.4396\n",
      "Model: \"model_2\"\n",
      "_________________________________________________________________\n",
      " Layer (type)                Output Shape              Param #   \n",
      "=================================================================\n",
      " input_8 (InputLayer)        [(None, 224, 224, 3)]     0         \n",
      "                                                                 \n",
      " MobilenetV3large (Function  (None, 7, 7, 960)         2996352   \n",
      " al)                                                             \n",
      "                                                                 \n",
      " flatten_3 (Flatten)         (None, 47040)             0         \n",
      "                                                                 \n",
      " dense_9 (Dense)             (None, 128)               6021248   \n",
      "                                                                 \n",
      " dense_10 (Dense)            (None, 64)                8256      \n",
      "                                                                 \n",
      " dense_11 (Dense)            (None, 32)                2080      \n",
      "                                                                 \n",
      " dense_12 (Dense)            (None, 8)                 264       \n",
      "                                                                 \n",
      "=================================================================\n",
      "Total params: 9028200 (34.44 MB)\n",
      "Trainable params: 6031848 (23.01 MB)\n",
      "Non-trainable params: 2996352 (11.43 MB)\n",
      "_________________________________________________________________\n"
     ]
    }
   ],
   "source": [
    "project5_model = new_model2(IMG_SIZE)\n",
    "base_learning_rate = 0.01\n",
    "opt = tf.keras.optimizers.legacy.SGD(learning_rate=base_learning_rate, momentum=0.9)\n",
    "#project5_model.compile(optimizer=opt,\n",
    "#            loss=tf.keras.losses.MeanAbsoluteError(),\n",
    "#            metrics=[\"accuracy\"])\n",
    "project5_model.compile(optimizer='adam',\n",
    "            loss=tf.keras.losses.SparseCategoricalCrossentropy(from_logits=True),\n",
    "            metrics=['accuracy'])\n",
    "\n",
    "initial_epochs = 10\n",
    "history = project5_model.fit(\n",
    "    train_dataset, \n",
    "    epochs=initial_epochs,\n",
    "    validation_data=val_dataset)\n",
    "project5_model.summary()"
   ]
  },
  {
   "cell_type": "code",
   "execution_count": 15,
   "metadata": {},
   "outputs": [
    {
     "name": "stdout",
     "output_type": "stream",
     "text": [
      "62/62 [==============================] - 30s 444ms/step - loss: 1.5528 - accuracy: 0.5225\n",
      "initial loss: 1.55\n",
      "initial accuracy: 0.52\n"
     ]
    }
   ],
   "source": [
    "loss0, accuracy0 = project5_model.evaluate(val_dataset)\n",
    "\n",
    "print(\"initial loss: {:.2f}\".format(loss0))\n",
    "print(\"initial accuracy: {:.2f}\".format(accuracy0))"
   ]
  },
  {
   "cell_type": "code",
   "execution_count": null,
   "metadata": {},
   "outputs": [],
   "source": []
  },
  {
   "cell_type": "code",
   "execution_count": null,
   "metadata": {},
   "outputs": [],
   "source": []
  }
 ],
 "metadata": {
  "kernelspec": {
   "display_name": "Python 3 (ipykernel)",
   "language": "python",
   "name": "python3"
  },
  "language_info": {
   "codemirror_mode": {
    "name": "ipython",
    "version": 3
   },
   "file_extension": ".py",
   "mimetype": "text/x-python",
   "name": "python",
   "nbconvert_exporter": "python",
   "pygments_lexer": "ipython3",
   "version": "3.10.6"
  }
 },
 "nbformat": 4,
 "nbformat_minor": 4
}
